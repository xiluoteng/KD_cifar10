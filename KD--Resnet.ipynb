{
 "cells": [
  {
   "cell_type": "code",
   "execution_count": 4,
   "id": "faf72b23",
   "metadata": {},
   "outputs": [
    {
     "ename": "ImportError",
     "evalue": "cannot import name 'Resnet' from 'model.ResNet' (C:\\Users\\华为\\model\\ResNet.py)",
     "output_type": "error",
     "traceback": [
      "\u001b[1;31m---------------------------------------------------------------------------\u001b[0m",
      "\u001b[1;31mImportError\u001b[0m                               Traceback (most recent call last)",
      "Input \u001b[1;32mIn [4]\u001b[0m, in \u001b[0;36m<cell line: 2>\u001b[1;34m()\u001b[0m\n\u001b[0;32m      1\u001b[0m \u001b[38;5;28;01mimport\u001b[39;00m \u001b[38;5;21;01mtorch\u001b[39;00m\n\u001b[1;32m----> 2\u001b[0m \u001b[38;5;28;01mfrom\u001b[39;00m \u001b[38;5;21;01mmodel\u001b[39;00m \u001b[38;5;28;01mimport\u001b[39;00m Resnet\n\u001b[0;32m      3\u001b[0m \u001b[38;5;28;01mimport\u001b[39;00m \u001b[38;5;21;01mnumpy\u001b[39;00m \u001b[38;5;28;01mas\u001b[39;00m \u001b[38;5;21;01mnp\u001b[39;00m\n\u001b[0;32m      4\u001b[0m \u001b[38;5;28;01mfrom\u001b[39;00m \u001b[38;5;21;01mtorch\u001b[39;00m\u001b[38;5;21;01m.\u001b[39;00m\u001b[38;5;21;01moptim\u001b[39;00m \u001b[38;5;28;01mimport\u001b[39;00m Adam\n",
      "File \u001b[1;32m~\\model\\__init__.py:1\u001b[0m, in \u001b[0;36m<module>\u001b[1;34m\u001b[0m\n\u001b[1;32m----> 1\u001b[0m \u001b[38;5;28;01mfrom\u001b[39;00m \u001b[38;5;21;01m.\u001b[39;00m\u001b[38;5;21;01mBackbone\u001b[39;00m \u001b[38;5;28;01mimport\u001b[39;00m \u001b[38;5;241m*\u001b[39m\n\u001b[0;32m      2\u001b[0m \u001b[38;5;28;01mfrom\u001b[39;00m \u001b[38;5;21;01m.\u001b[39;00m\u001b[38;5;21;01mHead\u001b[39;00m \u001b[38;5;28;01mimport\u001b[39;00m \u001b[38;5;241m*\u001b[39m\n",
      "\u001b[1;31mImportError\u001b[0m: cannot import name 'Resnet' from 'model.ResNet' (C:\\Users\\华为\\model\\ResNet.py)"
     ]
    }
   ],
   "source": [
    "import torch\n",
    "from model import Fullyconnectedhead, Resnet\n",
    "import numpy as np\n",
    "from torch.optim import Adam\n",
    "from torch.nn import MSELoss, KLDivLoss, Sequential\n",
    "from tqdm import tqdm"
   ]
  },
  {
   "cell_type": "code",
   "execution_count": null,
   "id": "00b3e315",
   "metadata": {},
   "outputs": [],
   "source": [
    "TrainBS = 64\n",
    "TestBS = 64\n",
    "Learning_Rate = 0.001\n",
    "Random_Seed = np.random.uniform()\n",
    "torch.manual_seed(Random_Seed)"
   ]
  },
  {
   "cell_type": "code",
   "execution_count": null,
   "id": "b21ede41",
   "metadata": {},
   "outputs": [],
   "source": [
    "Teacher_Network = Resnet(34)\n",
    "Network.load_state_dict(torch.load('KD-resnet.pth'))\n",
    "Student_Network = Sequential(Resnet(18),Fullyconnectedhead)\n",
    "optimizer = Adam(params = Student_Network.parameters(), lr = Learning_Rate)  \n",
    "Loss_Function = MSELoss()"
   ]
  },
  {
   "cell_type": "code",
   "execution_count": null,
   "id": "2be85a9d",
   "metadata": {},
   "outputs": [],
   "source": [
    "KD_temp = 1\n",
    "Soft_target_Loss = KLDivLoss(reduction=\"batchmean\")\n",
    "alpha = 0.5\n",
    "Hard_target_Loss = MSELoss()\n",
    "Beta = 0.5"
   ]
  },
  {
   "cell_type": "code",
   "execution_count": null,
   "id": "26d84810",
   "metadata": {},
   "outputs": [],
   "source": [
    "epochs = 10\n",
    "for epoch in range(1,epochs + 1):\n",
    "    for batch_idx, (data, target) in enumerate(tqdm(Train_Data)):\n",
    "        output = enumerate(data)\n",
    "        for np.zeros((len(batch_idx), 10)) in (output, target):\n",
    "            if output \n",
    "            \n",
    "        Teacher_Network.eval()\n",
    "        with torch.no_grad():\n",
    "            Teacher_Pred = Teacher_Network(data)\n",
    "        Student_Pred = Student_Network(data)\n",
    "        Distill_Loss = Soft_target_Loss(Student_Pred / KD_temp, Teacher_Pred / KD_temp)\n",
    "        Student_Loss = Hard_target_Loss(Student_Pred, target)\n",
    "        Loss = alpha * Distill_Loss + Beta * Student_Loss\n",
    "        Loss.backward()\n",
    "        optimizer.step()\n",
    "        avg_loss += Loss\n",
    "        correct += target.eq(Student_Network.data).sum()\n",
    "    print('Epoch:{}\\t Loss:{:.6f}\\t Acc:{:.1f}'.format(\n",
    "        epoch, avg_loss/len(Train_Data), 100.*correct/len(Train_Data.dataset)))"
   ]
  }
 ],
 "metadata": {
  "kernelspec": {
   "display_name": "Python 3 (ipykernel)",
   "language": "python",
   "name": "python3"
  },
  "language_info": {
   "codemirror_mode": {
    "name": "ipython",
    "version": 3
   },
   "file_extension": ".py",
   "mimetype": "text/x-python",
   "name": "python",
   "nbconvert_exporter": "python",
   "pygments_lexer": "ipython3",
   "version": "3.9.12"
  }
 },
 "nbformat": 4,
 "nbformat_minor": 5
}
