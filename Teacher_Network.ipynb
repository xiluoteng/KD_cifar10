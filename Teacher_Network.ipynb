{
 "cells": [
  {
   "cell_type": "code",
   "execution_count": null,
   "id": "2fae519f",
   "metadata": {},
   "outputs": [],
   "source": [
    "Teacher_Network = Resnet(34)\n",
    "optimizer = Adam(params = Teacher_Network.parameters(), lr = Learning_Rate)  \n",
    "Loss_Function = MSELoss()"
   ]
  },
  {
   "cell_type": "code",
   "execution_count": null,
   "id": "b5b86488",
   "metadata": {},
   "outputs": [],
   "source": [
    "epochs =  1\n",
    "for epoch in range(1,epochs + 1):\n",
    "    Teacher_Network.train()\n",
    "    correct = 0\n",
    "    avg_loss = 0\n",
    "    for batch_idx, (data, target) in tqdm(enumerate(Train_Data)):\n",
    "        target = target.type(torch.float32)\n",
    "        optimizer.zero_grad()\n",
    "        output = Teacher_Network(data)\n",
    "        output = output.view(-1,10)\n",
    "        output = torch.argmax(output, 1)\n",
    "        output = output.type(torch.float32)\n",
    "        output = torch.tensor(output, requires_grad = True)\n",
    "        loss = Loss_Function (output, target)\n",
    "        loss.backward()\n",
    "        optimizer.step()\n",
    "        avg_loss += loss\n",
    "        correct += target.eq(output.data).sum()\n",
    "    print('Train_Epoch:{}\\t Loss:{:.6f}\\t Acc:{:.1f}'.format(\n",
    "        epoch, avg_loss/len(Train_Data), 100.*correct/len(Train_Data.dataset)))"
   ]
  },
  {
   "cell_type": "code",
   "execution_count": null,
   "id": "36d18495",
   "metadata": {},
   "outputs": [],
   "source": [
    "torch.save(Network.state_dict(), 'KD-resnet.pth')"
   ]
  }
 ],
 "metadata": {
  "kernelspec": {
   "display_name": "Python 3 (ipykernel)",
   "language": "python",
   "name": "python3"
  },
  "language_info": {
   "codemirror_mode": {
    "name": "ipython",
    "version": 3
   },
   "file_extension": ".py",
   "mimetype": "text/x-python",
   "name": "python",
   "nbconvert_exporter": "python",
   "pygments_lexer": "ipython3",
   "version": "3.9.12"
  }
 },
 "nbformat": 4,
 "nbformat_minor": 5
}
