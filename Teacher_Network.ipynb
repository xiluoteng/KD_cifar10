{
 "cells": [
  {
   "cell_type": "code",
   "execution_count": null,
   "id": "053fc747",
   "metadata": {},
   "outputs": [],
   "source": [
    "import torch\n",
    "from model.Backbone import Resnet\n",
    "from model.Head import Fullyconnectedhead\n",
    "from torch.utils.data import DataLoader\n",
    "from torchvision.datasets import CIFAR10\n",
    "import numpy as np\n",
    "from torchvision.transforms import Compose, RandomHorizontalFlip, RandomGrayscale, ToTensor, Normalize\n",
    "from torchsummary import summary\n",
    "from torch.optim import Adam\n",
    "from torch.nn import MSELoss,  Sequential\n",
    "from tqdm import tqdm"
   ]
  },
  {
   "cell_type": "code",
   "execution_count": null,
   "id": "90c08c7b",
   "metadata": {},
   "outputs": [],
   "source": [
    "TrainBS = 64\n",
    "TestBS = 64\n",
    "Learning_Rate = 0.001\n",
    "Random_Seed = np.random.uniform()\n",
    "torch.manual_seed(Random_Seed)"
   ]
  },
  {
   "cell_type": "code",
   "execution_count": null,
   "id": "4865a56b",
   "metadata": {},
   "outputs": [],
   "source": [
    "Train_Data = DataLoader(dataset = CIFAR10(train = True,\n",
    "                                          root = '/data/',\n",
    "                                          download = True,\n",
    "                                          transform = Compose([RandomHorizontalFlip(),\n",
    "                                                               RandomGrayscale(),\n",
    "                                                               ToTensor(),\n",
    "                                                               Normalize((0.5,0.5,0.5),(0.5,0.5,0.5))])),\n",
    "                       batch_size = TrainBS,\n",
    "                       shuffle = True)\n",
    "Test_Data = DataLoader(dataset = CIFAR10(train = False,\n",
    "                                         root = '/data/',\n",
    "                                         download = True,\n",
    "                                         transform = Compose([ToTensor(),\n",
    "                                                              Normalize((0.5,0.5,0.5),(0.5,0.5,0.5))])),\n",
    "                       batch_size = TestBS,\n",
    "                       shuffle = True)"
   ]
  },
  {
   "cell_type": "code",
   "execution_count": null,
   "id": "6aaf1677",
   "metadata": {},
   "outputs": [],
   "source": [
    "Network = Sequential(Resnet(34),Fullyconnectedhead)\n",
    "summary(Network, (3, 224, 224))"
   ]
  },
  {
   "cell_type": "code",
   "execution_count": null,
   "id": "ae35c1f5",
   "metadata": {},
   "outputs": [],
   "source": [
    "Teacher_Network = Resnet(34)\n",
    "optimizer = Adam(params = Teacher_Network.parameters(), lr = Learning_Rate)  \n",
    "Loss_Function = MSELoss()"
   ]
  },
  {
   "cell_type": "code",
   "execution_count": null,
   "id": "21bf53ea",
   "metadata": {},
   "outputs": [],
   "source": [
    "epochs =  10\n",
    "for epoch in range(1,epochs + 1):\n",
    "    Teacher_Network.train()\n",
    "    correct = 0\n",
    "    avg_loss = 0\n",
    "    for batch_idx, (data, target) in tqdm(enumerate(Train_Data)):\n",
    "        target = target.type(torch.float32)\n",
    "        optimizer.zero_grad()\n",
    "        output = Teacher_Network(data)\n",
    "        output = output.view(-1,10)\n",
    "        output = torch.argmax(output, 1)\n",
    "        output = output.type(torch.float32)\n",
    "        output = torch.tensor(output, requires_grad = True)\n",
    "        loss = Loss_Function (output, target)\n",
    "        loss.backward()\n",
    "        optimizer.step()\n",
    "        avg_loss += loss\n",
    "        correct += target.eq(output.data).sum()\n",
    "    print('Train_Epoch:{}\\t Loss:{:.6f}\\t Acc:{:.1f}'.format(\n",
    "        epoch, avg_loss/len(Train_Data), 100.*correct/len(Train_Data.dataset)))"
   ]
  },
  {
   "cell_type": "code",
   "execution_count": null,
   "id": "5a0caacd",
   "metadata": {},
   "outputs": [],
   "source": [
    "torch.save(Network.state_dict(), 'KD-resnet.pth')"
   ]
  }
 ],
 "metadata": {
  "kernelspec": {
   "display_name": "Python 3 (ipykernel)",
   "language": "python",
   "name": "python3"
  },
  "language_info": {
   "codemirror_mode": {
    "name": "ipython",
    "version": 3
   },
   "file_extension": ".py",
   "mimetype": "text/x-python",
   "name": "python",
   "nbconvert_exporter": "python",
   "pygments_lexer": "ipython3",
   "version": "3.9.12"
  }
 },
 "nbformat": 4,
 "nbformat_minor": 5
}
